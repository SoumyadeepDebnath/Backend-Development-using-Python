{
  "nbformat": 4,
  "nbformat_minor": 0,
  "metadata": {
    "colab": {
      "name": "VirtualEnvironment.ipynb",
      "provenance": [],
      "authorship_tag": "ABX9TyPGrcL7fImt++Q6SClCC/mI"
    },
    "kernelspec": {
      "name": "python3",
      "display_name": "Python 3"
    },
    "language_info": {
      "name": "python"
    }
  },
  "cells": [
    {
      "cell_type": "code",
      "source": [
        "cd directory_path"
      ],
      "metadata": {
        "id": "ZZztCMljvZHq"
      },
      "execution_count": null,
      "outputs": []
    },
    {
      "cell_type": "code",
      "source": [
        "pwd"
      ],
      "metadata": {
        "id": "LlCzf4kovcr5"
      },
      "execution_count": null,
      "outputs": []
    },
    {
      "cell_type": "markdown",
      "source": [
        "#### **Virtual Environment Creation**"
      ],
      "metadata": {
        "id": "98vzEV2YvnP2"
      }
    },
    {
      "cell_type": "code",
      "source": [
        "conda create -n ve_name python=3.9"
      ],
      "metadata": {
        "id": "ZfC-Q0WDvJZB"
      },
      "execution_count": null,
      "outputs": []
    },
    {
      "cell_type": "code",
      "source": [
        "y"
      ],
      "metadata": {
        "id": "YkwfyCXXvhKr"
      },
      "execution_count": null,
      "outputs": []
    },
    {
      "cell_type": "code",
      "source": [
        "conda activate ve_name"
      ],
      "metadata": {
        "id": "_7EmJ2iDvJTd"
      },
      "execution_count": null,
      "outputs": []
    },
    {
      "cell_type": "code",
      "source": [
        "conda deactivate"
      ],
      "metadata": {
        "id": "jghmUtZ_vJL3"
      },
      "execution_count": null,
      "outputs": []
    },
    {
      "cell_type": "code",
      "source": [
        "conda activate base"
      ],
      "metadata": {
        "id": "5woxAKdHwFcs"
      },
      "execution_count": null,
      "outputs": []
    },
    {
      "cell_type": "markdown",
      "source": [
        "#### **Install Flask Django**"
      ],
      "metadata": {
        "id": "fJmD6ZJlvtcx"
      }
    },
    {
      "cell_type": "code",
      "execution_count": null,
      "metadata": {
        "id": "afb99VQfunbh"
      },
      "outputs": [],
      "source": [
        "pip install flask"
      ]
    },
    {
      "cell_type": "code",
      "source": [
        "python -m pip install Django"
      ],
      "metadata": {
        "id": "WjX8SnnAuxAk"
      },
      "execution_count": null,
      "outputs": []
    }
  ]
}