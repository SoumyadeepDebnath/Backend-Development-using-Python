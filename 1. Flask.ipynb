{
  "nbformat": 4,
  "nbformat_minor": 0,
  "metadata": {
    "colab": {
      "name": "Flask.ipynb",
      "provenance": [],
      "authorship_tag": "ABX9TyNcrPx4VEj2QxN7tZcSvaqZ",
      "include_colab_link": true
    },
    "kernelspec": {
      "name": "python3",
      "display_name": "Python 3"
    },
    "language_info": {
      "name": "python"
    }
  },
  "cells": [
    {
      "cell_type": "markdown",
      "metadata": {
        "id": "view-in-github",
        "colab_type": "text"
      },
      "source": [
        "<a href=\"https://colab.research.google.com/github/SoumyadeepDebnath/Backend_Programming_using_Python/blob/main/1.%20Flask.ipynb\" target=\"_parent\"><img src=\"https://colab.research.google.com/assets/colab-badge.svg\" alt=\"Open In Colab\"/></a>"
      ]
    },
    {
      "cell_type": "code",
      "source": [
        "from flask import Flask, render_template, request, jsonify"
      ],
      "metadata": {
        "id": "-rpW0CrtB_mY"
      },
      "execution_count": null,
      "outputs": []
    },
    {
      "cell_type": "code",
      "source": [
        "app = Flask(__name__)"
      ],
      "metadata": {
        "id": "9JYvG2z7CH8p"
      },
      "execution_count": null,
      "outputs": []
    },
    {
      "cell_type": "code",
      "source": [
        "@app.route('/common_endpoint', methods=['GET', 'POST']) # To render Homepage\n",
        "def home_page():\n",
        "    return render_template('index.html')"
      ],
      "metadata": {
        "id": "XSpymC8fCPon"
      },
      "execution_count": null,
      "outputs": []
    },
    {
      "cell_type": "code",
      "execution_count": null,
      "metadata": {
        "id": "dnlyQYTeB3IN"
      },
      "outputs": [],
      "source": [
        "@app.route('/via_webpage', methods=['POST'])  # This will be called from UI\n",
        "def math_operation():\n",
        "    if (request.method=='POST'):\n",
        "        operation=request.form['operation']\n",
        "        num1=int(request.form['num1'])\n",
        "        num2 = int(request.form['num2'])\n",
        "        if(operation=='add'):\n",
        "            r=num1+num2\n",
        "            result= 'the sum of '+str(num1)+' and '+str(num2) +' is '+str(r)\n",
        "        if (operation == 'subtract'):\n",
        "            r = num1 - num2\n",
        "            result = 'the difference of ' + str(num1) + ' and ' + str(num2) + ' is ' + str(r)\n",
        "        if (operation == 'multiply'):\n",
        "            r = num1 * num2\n",
        "            result = 'the product of ' + str(num1) + ' and ' + str(num2) + ' is ' + str(r)\n",
        "        if (operation == 'divide'):\n",
        "            r = num1 / num2\n",
        "            result = 'the quotient when ' + str(num1) + ' is divided by ' + str(num2) + ' is ' + str(r)\n",
        "        return render_template('results.html',result=result)"
      ]
    },
    {
      "cell_type": "code",
      "source": [
        "@app.route('/via_postman', methods=['POST']) # for calling the API from Postman/SOAPUI\n",
        "def math_operation_via_postman():\n",
        "    if (request.method=='POST'):\n",
        "        operation=request.json['operation']\n",
        "        num1=int(request.json['num1'])\n",
        "        num2 = int(request.json['num2'])\n",
        "        if(operation=='add'):\n",
        "            r=num1+num2\n",
        "            result= 'the sum of '+str(num1)+' and '+str(num2) +' is '+str(r)\n",
        "        if (operation == 'subtract'):\n",
        "            r = num1 - num2\n",
        "            result = 'the difference of ' + str(num1) + ' and ' + str(num2) + ' is ' + str(r)\n",
        "        if (operation == 'multiply'):\n",
        "            r = num1 * num2\n",
        "            result = 'the product of ' + str(num1) + ' and ' + str(num2) + ' is ' + str(r)\n",
        "        if (operation == 'divide'):\n",
        "            r = num1 / num2\n",
        "            result = 'the quotient when ' + str(num1) + ' is divided by ' + str(num2) + ' is ' + str(r)\n",
        "        return jsonify(result)"
      ],
      "metadata": {
        "id": "3FhXmSaBCMXn"
      },
      "execution_count": null,
      "outputs": []
    },
    {
      "cell_type": "code",
      "source": [
        "if __name__ == '__main__':\n",
        "    app.run()"
      ],
      "metadata": {
        "id": "Ub-AZN0UCKFg"
      },
      "execution_count": null,
      "outputs": []
    }
  ]
}