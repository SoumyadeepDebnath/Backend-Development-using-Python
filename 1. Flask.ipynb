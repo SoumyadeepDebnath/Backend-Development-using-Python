{
  "nbformat": 4,
  "nbformat_minor": 0,
  "metadata": {
    "colab": {
      "name": "Flask.ipynb",
      "provenance": [],
      "authorship_tag": "ABX9TyOCF0nrEmqtCSOd5paa3x8D"
    },
    "kernelspec": {
      "name": "python3",
      "display_name": "Python 3"
    },
    "language_info": {
      "name": "python"
    }
  },
  "cells": [
    {
      "cell_type": "markdown",
      "source": [
        "#### **app.py**"
      ],
      "metadata": {
        "id": "TXYtS1CRJnFs"
      }
    },
    {
      "cell_type": "code",
      "source": [
        "from flask import Flask, render_template, request, jsonify"
      ],
      "metadata": {
        "id": "-rpW0CrtB_mY"
      },
      "execution_count": 1,
      "outputs": []
    },
    {
      "cell_type": "code",
      "source": [
        "app = Flask(__name__)"
      ],
      "metadata": {
        "id": "9JYvG2z7CH8p"
      },
      "execution_count": 2,
      "outputs": []
    },
    {
      "cell_type": "code",
      "source": [
        "@app.route('/common_endpoint', methods=['GET', 'POST']) # To render Homepage\n",
        "def home_page():\n",
        "    return render_template('index.html') #inside templates folder"
      ],
      "metadata": {
        "id": "XSpymC8fCPon"
      },
      "execution_count": null,
      "outputs": []
    },
    {
      "cell_type": "code",
      "execution_count": null,
      "metadata": {
        "id": "dnlyQYTeB3IN"
      },
      "outputs": [],
      "source": [
        "@app.route('/via_webpage', methods=['POST'])     # calling the API from from UI\n",
        "def math_operation_via_webpage():\n",
        "    if (request.method=='POST'):\n",
        "        operation = request.form['operation']\n",
        "        num1 = int(request.form['num1'])\n",
        "        num2 = int(request.form['num2'])\n",
        "        if(operation=='add'):\n",
        "            r=num1+num2\n",
        "            result = 'the sum of '+str(num1)+' and '+str(num2) +' is '+str(r)\n",
        "        if (operation == 'subtract'):\n",
        "            r = num1 - num2\n",
        "            result = 'the difference of ' + str(num1) + ' and ' + str(num2) + ' is ' + str(r)\n",
        "        if (operation == 'multiply'):\n",
        "            r = num1 * num2\n",
        "            result = 'the product of ' + str(num1) + ' and ' + str(num2) + ' is ' + str(r)\n",
        "        if (operation == 'divide'):\n",
        "            r = num1 / num2\n",
        "            result = 'the quotient when ' + str(num1) + ' is divided by ' + str(num2) + ' is ' + str(r)\n",
        "        return render_template('results.html',result=result)"
      ]
    },
    {
      "cell_type": "code",
      "source": [
        "@app.route('/via_postman', methods=['POST'])    # calling the API from Postman/SOAPUI\n",
        "def math_operation_via_postman():\n",
        "    if (request.method=='POST'):\n",
        "        operation = request.json['operation']\n",
        "        num1 = int(request.json['num1'])\n",
        "        num2 = int(request.json['num2'])\n",
        "        if(operation=='add'):\n",
        "            r=num1+num2\n",
        "            result= 'the sum of '+str(num1)+' and '+str(num2) +' is '+str(r)\n",
        "        if (operation == 'subtract'):\n",
        "            r = num1 - num2\n",
        "            result = 'the difference of ' + str(num1) + ' and ' + str(num2) + ' is ' + str(r)\n",
        "        if (operation == 'multiply'):\n",
        "            r = num1 * num2\n",
        "            result = 'the product of ' + str(num1) + ' and ' + str(num2) + ' is ' + str(r)\n",
        "        if (operation == 'divide'):\n",
        "            r = num1 / num2\n",
        "            result = 'the quotient when ' + str(num1) + ' is divided by ' + str(num2) + ' is ' + str(r)\n",
        "        return jsonify(result)"
      ],
      "metadata": {
        "id": "3FhXmSaBCMXn"
      },
      "execution_count": 3,
      "outputs": []
    },
    {
      "cell_type": "code",
      "source": [
        "@app.route('/via_browser_url')    # calling the API from Browser URL\n",
        "def math_operation_via_browser():\n",
        "        #query parameters\n",
        "        num1 = request.args.get('val1')\n",
        "        num2 = request.args.get('val2')\n",
        "        return '''<h1>My Result is : {}</h1>'''.format()"
      ],
      "metadata": {
        "id": "MLvxF9M6XGBs"
      },
      "execution_count": null,
      "outputs": []
    },
    {
      "cell_type": "code",
      "source": [
        "if __name__ == '__main__':\n",
        "    app.run()"
      ],
      "metadata": {
        "id": "Ub-AZN0UCKFg"
      },
      "execution_count": null,
      "outputs": []
    },
    {
      "cell_type": "markdown",
      "source": [
        "#### **test.py**"
      ],
      "metadata": {
        "id": "xvuiYnoIIpLu"
      }
    },
    {
      "cell_type": "code",
      "source": [
        "from flask import Flask, render_template, request, jsonify"
      ],
      "metadata": {
        "id": "Tektl81xKs8b"
      },
      "execution_count": null,
      "outputs": []
    },
    {
      "cell_type": "code",
      "source": [
        "test = Flask(__name__)"
      ],
      "metadata": {
        "id": "kl16HflMKzpc"
      },
      "execution_count": null,
      "outputs": []
    },
    {
      "cell_type": "code",
      "source": [
        "import requests\n",
        "import json"
      ],
      "metadata": {
        "id": "ilsJaNDPIsn4"
      },
      "execution_count": 1,
      "outputs": []
    },
    {
      "cell_type": "code",
      "source": [
        "url = \"\"\n",
        "\n",
        "@app.route('/test_url', methods=['GET'])     # testing an URL\n",
        "def math_operation_via_webpage():\n",
        "    if (request.method=='GET'):\n",
        "\n",
        "        response = requests.get(url)\n",
        "        print('Response: ',response)\n",
        "        try:\n",
        "            if (response.status_code == 200):\n",
        "                json_data=response.json()\n",
        "                result = json_data\n",
        "            else:\n",
        "                result = \"No Response\"\n",
        "            return jsonify(result)\n",
        "        except ValueError:\n",
        "            result = \"Exception\"\n",
        "            return jsonify(result)"
      ],
      "metadata": {
        "id": "gx8RmUPKIpoX"
      },
      "execution_count": null,
      "outputs": []
    },
    {
      "cell_type": "code",
      "source": [
        "if __name__ == '__main__':\n",
        "    test.run()"
      ],
      "metadata": {
        "id": "0CUNkdigKv1R"
      },
      "execution_count": null,
      "outputs": []
    }
  ]
}